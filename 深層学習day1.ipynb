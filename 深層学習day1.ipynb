{
  "nbformat": 4,
  "nbformat_minor": 0,
  "metadata": {
    "colab": {
      "name": "深層学習day1.ipynb",
      "provenance": [],
      "collapsed_sections": []
    },
    "kernelspec": {
      "name": "python3",
      "display_name": "Python 3"
    }
  },
  "cells": [
    {
      "cell_type": "markdown",
      "metadata": {
        "id": "RWD9QQukq2Qd"
      },
      "source": [
        "# アジェンダ\r\n",
        "\r\n",
        "## 確認テスト\r\n",
        "```\r\n",
        "ディープラーニングは、結局何をやろうとしているか2行以内で述べよ。  \r\n",
        "また、次の中のどの値の最適化が最終目的か。全て選べ。  \r\n",
        "①入力値[ X] ②出力値[ Y]③重み[W]④バイアス[b]⑤総入力[u] ⑥中間層入力[ z]⑦学習率[ρ]\r\n",
        "```  \r\n",
        "\r\n",
        "人間が自然に行うタスク(音声の認識、画像の特定、予測など)をコンピュータに学習させ、自動化すること。  \r\n",
        "最適化は③重み、④バイアス、⑦学習率に対して行う。\r\n",
        "\r\n",
        "## 確認テスト\r\n",
        "```\r\n",
        "次のネットワークを紙にかけ。  \r\n",
        "入力層︓2ノード1層中間層︓３ノード2層出力層︓1ノード1層\r\n",
        "```\r\n",
        "![day1_1.jpg](resource/day1_1.jpg)"
      ]
    },
    {
      "cell_type": "markdown",
      "metadata": {
        "id": "VnzTyI6-Z4pX"
      },
      "source": [
        "# Section1: 入力層〜中間層\r\n",
        "\r\n",
        "入力層はデータの入力が行われる。データは事前に数値化が必要。  \r\n",
        "中間層は入力層と出力層の中間にあり、その構成を変えることで複雑な問題を表現できるポテンシャルがある。  \r\n",
        "しかし段数を増やすと誤差逆伝播時に勾配消失の問題が出てくる。\r\n",
        "\r\n",
        "## 確認テスト\r\n",
        "```\r\n",
        "この図式に動物分類の実例を入れてみよう。\r\n",
        "```\r\n",
        "![day1_2.jpg](resource/day1_2.jpg)\r\n",
        "\r\n",
        "## 確認テスト\r\n",
        "```\r\n",
        "この数式をPythonで書け。\r\n",
        "```\r\n",
        "```\r\n",
        "u = np.dot(x, W) + b\r\n",
        "```\r\n",
        "## 確認テスト\r\n",
        "```\r\n",
        "1-1のファイルから中間層の出力を定義しているソースを抜き出せ。\r\n",
        "```\r\n",
        "```  \r\n",
        "z = functions.relu(u)\r\n",
        "```"
      ]
    },
    {
      "cell_type": "markdown",
      "metadata": {
        "id": "M2tMKbp7Z-qB"
      },
      "source": [
        "# Section2: 活性化関数\r\n",
        "\r\n",
        "単純パーセプトロン問題では出力層にのみ活性化関数を使用していた。  \r\n",
        "多層ニューラルネットワークでは中間層にも活性化関数を使うのが有効である。そうすることで非線形問題を表現可能になる。  \r\n",
        "中間層でよく使われる活性化関数はReLU関数、シグモイド関数、ステップ関数\r\n",
        "\r\n",
        "## 確認テスト\r\n",
        "```\r\n",
        "線形と非線形の違いを図にかいて簡易に説明せよ。\r\n",
        "```\r\n",
        "![day1_3.jpg](resource/day1_3.jpg)\r\n",
        "```\r\n",
        "## 確認テスト\r\n",
        "```\r\n",
        "配布されたソースコードより該当する箇所を抜き出せ。\r\n",
        "```\r\n",
        "```\r\n",
        "z = functions.sigmoid(u)\r\n",
        "```\r\n"
      ]
    },
    {
      "cell_type": "markdown",
      "metadata": {
        "id": "RgspfpY8aCyb"
      },
      "source": [
        "# Section3: 出力層\r\n",
        "\r\n",
        "## 誤差関数\r\n",
        "\r\n",
        "二乗和誤差が有名、クラス分類ではクロスエントロピー誤差を使う。\r\n",
        "\r\n",
        "## 出力層の活性化関数\r\n",
        "\r\n",
        "分類問題の場合出力の総和を1にする必要があり、ソフトマックス関数を使う\r\n",
        "\r\n",
        "### 確認テスト\r\n",
        "```\r\n",
        "・なぜ、引き算でなく二乗するか述べよ  \r\n",
        "・下式の1/2はどういう意味を持つか述べよ\r\n",
        "```\r\n",
        " 引き算の場合、正の差分と負の差分とで打ち消し合ってしまうため  \r\n",
        " 微分したとき出てくる2を消す\r\n",
        "\r\n",
        "### 確認テスト\r\n",
        "```\r\n",
        "①~③の数式に該当するソースコードを示し、一行づつ処理の説明をせよ。\r\n",
        "```\r\n",
        "```\r\n",
        "def softmax(x):\r\n",
        "    if x.ndim == 2: // xが2次元の場合\r\n",
        "        x = x.T // xを転置\r\n",
        "        x = x - np.max(x, axis=0) // 各成分から最大値を引き算\r\n",
        "        y = np.exp(x) / np.sum(np.exp(x), axis=0) // 計算\r\n",
        "        return y.T //　転置したものを返す\r\n",
        "\r\n",
        "    x = x - np.max(x) # オーバーフロー対策\r\n",
        "    return np.exp(x) / np.sum(np.exp(x)) // 計算\r\n",
        "\r\n",
        "```\r\n",
        "### 確認テスト\r\n",
        "```\r\n",
        "①~②の数式に該当するソースコードを示し、一行づつ処理の説明をせよ。\r\n",
        "```\r\n",
        "```\r\n",
        "def cross_entropy_error(d, y):\r\n",
        "    if y.ndim == 1: // yが1次元の場合\r\n",
        "        d = d.reshape(1, d.size) // 1×dの形に整形\r\n",
        "        y = y.reshape(1, y.size) // 1×yの形に整形\r\n",
        "        \r\n",
        "    # 教師データがone-hot-vectorの場合、正解ラベルのインデックスに変換\r\n",
        "    if d.size == y.size: // dとyのサイズが等しい場合\r\n",
        "        d = d.argmax(axis=1) // dにaxis=1の方向の最大値を設定\r\n",
        "             \r\n",
        "    batch_size = y.shape[0] //バッチサイズとしてy.shape[0]を設定\r\n",
        "    return -np.sum(np.log(y[np.arange(batch_size), d] + 1e-7)) / batch_size // 計算\r\n",
        "```"
      ]
    },
    {
      "cell_type": "markdown",
      "metadata": {
        "id": "6KQN53cYaHSP"
      },
      "source": [
        "# Section4: 勾配降下法\r\n",
        "\r\n",
        "誤差関数を最小化するのに使用するアルゴリズム。  \r\n",
        "重みと誤差関数を重みで微分して得られる$\\nabla E$を用いて重みを更新していく。  \r\n",
        "学習率を大きくしすぎると収束しないので調整が必要。\r\n",
        "\r\n",
        "## 確認テスト\r\n",
        "```\r\n",
        "該当するソースコードを探してみよう。\r\n",
        "```\r\n",
        "```\r\n",
        "network[key]  -= learning_rate * grad[key]\r\n",
        "```\r\n",
        "## 確認テスト\r\n",
        "```\r\n",
        "オンライン学習とは何か2行でまとめよ\r\n",
        "```\r\n",
        "バッチ単位ではなくデータ1件ごとに重みを更新していく学習  \r\n",
        "変化に迅速に対応できるのと学習済データを蓄えておかなくていいメリットがある\r\n",
        "## 確認テスト\r\n",
        "```\r\n",
        "・この数式の意味を図に書いて説明せよ。\r\n",
        "```\r\n",
        "誤差関数が最小となるように重みをミニバッチ単位で更新していく  \r\n",
        "![day1_4.jpg](resource/day1_4.jpg)\r\n"
      ]
    },
    {
      "cell_type": "markdown",
      "metadata": {
        "id": "rDxeeyYnaNfa"
      },
      "source": [
        "# Section5: 誤差逆伝搬法\r\n",
        "\r\n",
        "複雑の誤差関数の偏微分をコンピュータで有効的に計算しやすくするアルゴリズム。  \r\n",
        "出力層に近い層から順に重みの微分を求めていくので、そのフローから逆伝搬と呼ばれる。  \r\n",
        "層が増えると途中で勾配消失してしまう問題がある。\r\n",
        "\r\n",
        "## 確認テスト\r\n",
        "```\r\n",
        "誤差逆伝播法では不要な再帰的処理を避ける事が出来る。  \r\n",
        "既に行った計算結果を保持しているソースコードを抽出せよ。\r\n",
        "```\r\n",
        "```\r\n",
        "delta2 = functions.d_sigmoid_with_loss(d, y)\r\n",
        "delta1 = np.dot(delta2, W2.T) * functions.d_relu(z1)\r\n",
        "```\r\n",
        "## 確認テスト\r\n",
        "```\r\n",
        "2つの空欄に該当するソースコードを探せ\r\n",
        "```\r\n",
        "```\r\n",
        "delta2 = functions.d_mean_squared_error(d, y)  \r\n",
        "grad['W2'] = np.dot(z1.T, delta2)\r\n",
        "```"
      ]
    },
    {
      "cell_type": "markdown",
      "metadata": {
        "id": "VXOuVHdSmjD2"
      },
      "source": [
        "# 実装演習結果キャプチャー\r\n",
        "\r\n",
        "https://github.com/syoshinaga/rabbit_challenge/tree/main/capture/day1/1_1_forward_propagation.ipynb\r\n",
        "https://github.com/syoshinaga/rabbit_challenge/tree/main/capture/day1/1_1_forward_propagation_after.ipynb\r\n",
        "https://github.com/syoshinaga/rabbit_challenge/tree/main/capture/day1/1_2_back_propagation.ipynb\r\n",
        "https://github.com/syoshinaga/rabbit_challenge/tree/main/capture/day1/1_3_stochastic_gradient_descent.ipynb\r\n",
        "https://github.com/syoshinaga/rabbit_challenge/tree/main/capture/day1/1_4_1_mnist_sample.ipynb\r\n"
      ]
    },
    {
      "cell_type": "markdown",
      "metadata": {
        "id": "GWF6HLmumfrf"
      },
      "source": [
        "# リンク\r\n",
        "\r\n",
        "本記事は以下のオンライン講座のレポートとして作成したものです。\r\n",
        "\r\n",
        "3カ月で現場で潰しが効くディープラーニング講座\r\n",
        "\r\n",
        "https://study-ai.com/jdla/\r\n",
        "\r\n",
        "![bnr_jdla.png](data:image/png;base64,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)"
      ]
    },
    {
      "cell_type": "code",
      "metadata": {
        "id": "_6wABYlFZr4I"
      },
      "source": [
        ""
      ],
      "execution_count": null,
      "outputs": []
    }
  ]
}