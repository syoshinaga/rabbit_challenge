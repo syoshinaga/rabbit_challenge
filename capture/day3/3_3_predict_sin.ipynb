{
  "nbformat": 4,
  "nbformat_minor": 0,
  "metadata": {
    "kernelspec": {
      "display_name": "Python 3",
      "language": "python",
      "name": "python3"
    },
    "language_info": {
      "codemirror_mode": {
        "name": "ipython",
        "version": 3
      },
      "file_extension": ".py",
      "mimetype": "text/x-python",
      "name": "python",
      "nbconvert_exporter": "python",
      "pygments_lexer": "ipython3",
      "version": "3.6.3"
    },
    "colab": {
      "name": "3_3_predict_sin.ipynb",
      "provenance": [],
      "collapsed_sections": []
    }
  },
  "cells": [
    {
      "cell_type": "markdown",
      "metadata": {
        "id": "8cNl2QA_Rnv5"
      },
      "source": [
        "# 準備"
      ]
    },
    {
      "cell_type": "markdown",
      "metadata": {
        "id": "YkwjN1jNVAYy"
      },
      "source": [
        "## Googleドライブのマウント"
      ]
    },
    {
      "cell_type": "code",
      "metadata": {
        "id": "pvFXpiH3EVC1",
        "colab": {
          "base_uri": "https://localhost:8080/"
        },
        "outputId": "896e389e-f2a2-4616-fe27-81a18db289d5"
      },
      "source": [
        "from google.colab import drive\n",
        "drive.mount('/content/drive')"
      ],
      "execution_count": 1,
      "outputs": [
        {
          "output_type": "stream",
          "text": [
            "Mounted at /content/drive\n"
          ],
          "name": "stdout"
        }
      ]
    },
    {
      "cell_type": "markdown",
      "metadata": {
        "id": "3Ub7RYdeY6pK"
      },
      "source": [
        "## sys.pathの設定"
      ]
    },
    {
      "cell_type": "markdown",
      "metadata": {
        "id": "oql7L19rEsWi"
      },
      "source": [
        "以下では，Googleドライブのマイドライブ直下にDNN_codeフォルダを置くことを仮定しています．必要に応じて，パスを変更してください．"
      ]
    },
    {
      "cell_type": "code",
      "metadata": {
        "id": "7Ic2JzkvFX59"
      },
      "source": [
        "import sys\n",
        "sys.path.append('/content/drive/My Drive/DNN_code')"
      ],
      "execution_count": 2,
      "outputs": []
    },
    {
      "cell_type": "markdown",
      "metadata": {
        "id": "5NW-lqQTQir-"
      },
      "source": [
        "# predict sin\n",
        "\n",
        "---------------------------------------------------------------------------------------------------------------------------------------------------------------------------------------------\n",
        "### [try]\n",
        "-  iters_numを100にしよう\n",
        "-  maxlenを5, iters_numを500, 3000(※時間がかかる)にしよう\n",
        "---------------------------------------------------------------------------------------------------------------------------------------------------------------------------------------------"
      ]
    },
    {
      "cell_type": "code",
      "metadata": {
        "id": "bd8--ZQbQisA",
        "colab": {
          "base_uri": "https://localhost:8080/",
          "height": 1000
        },
        "outputId": "7e38907a-b74a-4cb5-f7d8-6a83441e0042"
      },
      "source": [
        "import numpy as np\n",
        "from common import functions\n",
        "import matplotlib.pyplot as plt\n",
        "from sklearn.model_selection import train_test_split\n",
        "\n",
        "np.random.seed(0)\n",
        "\n",
        "# sin曲線\n",
        "round_num = 10\n",
        "div_num = 500\n",
        "ts = np.linspace(0, round_num * np.pi, div_num)\n",
        "f = np.sin(ts)\n",
        "\n",
        "def d_tanh(x):\n",
        "    return 1/(np.cosh(x)**2 + 1e-4)\n",
        "\n",
        "# ひとつの時系列データの長さ\n",
        "maxlen = 2\n",
        "\n",
        "# sin波予測の入力データ\n",
        "test_head = [[f[k]] for k in range(0, maxlen)]\n",
        "\n",
        "data = []\n",
        "target = []\n",
        "\n",
        "for i in range(div_num - maxlen):\n",
        "    data.append(f[i: i + maxlen])\n",
        "    target.append(f[i + maxlen])\n",
        "    \n",
        "X = np.array(data).reshape(len(data), maxlen, 1)\n",
        "D = np.array(target).reshape(len(data), 1)\n",
        "\n",
        "# データ設定\n",
        "N_train = int(len(data) * 0.8)\n",
        "N_validation = len(data) - N_train\n",
        "\n",
        "x_train, x_test, d_train, d_test = train_test_split(X, D, test_size=N_validation)\n",
        "\n",
        "input_layer_size = 1\n",
        "hidden_layer_size = 5\n",
        "output_layer_size = 1\n",
        "\n",
        "weight_init_std = 0.01\n",
        "learning_rate = 0.1\n",
        "\n",
        "iters_num = 500\n",
        "\n",
        "# ウェイト初期化 (バイアスは簡単のため省略)\n",
        "W_in = weight_init_std * np.random.randn(input_layer_size, hidden_layer_size)\n",
        "W_out = weight_init_std * np.random.randn(hidden_layer_size, output_layer_size)\n",
        "W = weight_init_std * np.random.randn(hidden_layer_size, hidden_layer_size)\n",
        "\n",
        "# 勾配\n",
        "W_in_grad = np.zeros_like(W_in)\n",
        "W_out_grad = np.zeros_like(W_out)\n",
        "W_grad = np.zeros_like(W)\n",
        "\n",
        "us = []\n",
        "zs = []\n",
        "\n",
        "u = np.zeros(hidden_layer_size)\n",
        "z = np.zeros(hidden_layer_size)\n",
        "y = np.zeros(output_layer_size)\n",
        "\n",
        "delta_out = np.zeros(output_layer_size)\n",
        "delta = np.zeros(hidden_layer_size)\n",
        "\n",
        "losses = []\n",
        "\n",
        "# トレーニング\n",
        "for i in range(iters_num):\n",
        "    for s in range(x_train.shape[0]):\n",
        "        us.clear()\n",
        "        zs.clear()\n",
        "        z *= 0\n",
        "        \n",
        "        # sにおける正解データ\n",
        "        d = d_train[s]\n",
        "\n",
        "        xs = x_train[s]        \n",
        "        \n",
        "        # 時系列ループ\n",
        "        for t in range(maxlen):\n",
        "            \n",
        "            # 入力値\n",
        "            x = xs[t]\n",
        "            u = np.dot(x, W_in) + np.dot(z, W)\n",
        "            us.append(u)\n",
        "            z = np.tanh(u)\n",
        "            zs.append(z)\n",
        "\n",
        "        y = np.dot(z, W_out)\n",
        "        \n",
        "        #誤差\n",
        "        loss = functions.mean_squared_error(d, y)\n",
        "        \n",
        "        delta_out = functions.d_mean_squared_error(d, y)\n",
        "        \n",
        "        delta *= 0\n",
        "        for t in range(maxlen)[::-1]:\n",
        "            \n",
        "            delta = (np.dot(delta, W.T) + np.dot(delta_out, W_out.T)) * d_tanh(us[t])\n",
        "            \n",
        "            # 勾配更新\n",
        "            W_grad += np.dot(zs[t].reshape(-1,1), delta.reshape(1,-1))\n",
        "            W_in_grad += np.dot(xs[t], delta.reshape(1,-1))\n",
        "        W_out_grad = np.dot(z.reshape(-1,1), delta_out)\n",
        "        \n",
        "        # 勾配適用\n",
        "        W -= learning_rate * W_grad\n",
        "        W_in -= learning_rate * W_in_grad\n",
        "        W_out -= learning_rate * W_out_grad.reshape(-1,1)\n",
        "            \n",
        "        W_in_grad *= 0\n",
        "        W_out_grad *= 0\n",
        "        W_grad *= 0\n",
        "\n",
        "# テスト        \n",
        "for s in range(x_test.shape[0]):\n",
        "    z *= 0\n",
        "\n",
        "    # sにおける正解データ\n",
        "    d = d_test[s]\n",
        "\n",
        "    xs = x_test[s]\n",
        "\n",
        "    # 時系列ループ\n",
        "    for t in range(maxlen):\n",
        "\n",
        "        # 入力値\n",
        "        x = xs[t]\n",
        "        u = np.dot(x, W_in) + np.dot(z, W)\n",
        "        z = np.tanh(u)\n",
        "\n",
        "    y = np.dot(z, W_out)\n",
        "\n",
        "    #誤差\n",
        "    loss = functions.mean_squared_error(d, y)\n",
        "    print('loss:', loss, '   d:', d, '   y:', y)\n",
        "        \n",
        "        \n",
        "        \n",
        "original = np.full(maxlen, None)\n",
        "pred_num = 200\n",
        "\n",
        "xs = test_head\n",
        "\n",
        "# sin波予測\n",
        "for s in range(0, pred_num):\n",
        "    z *= 0\n",
        "    for t in range(maxlen):\n",
        "        \n",
        "        # 入力値\n",
        "        x = xs[t]\n",
        "        u = np.dot(x, W_in) + np.dot(z, W)\n",
        "        z = np.tanh(u)\n",
        "\n",
        "    y = np.dot(z, W_out)\n",
        "    original = np.append(original, y)\n",
        "    xs = np.delete(xs, 0)\n",
        "    xs = np.append(xs, y)\n",
        "\n",
        "plt.figure()\n",
        "plt.ylim([-1.5, 1.5])\n",
        "plt.plot(np.sin(np.linspace(0, round_num* pred_num / div_num * np.pi, pred_num)), linestyle='dotted', color='#aaaaaa')\n",
        "plt.plot(original, linestyle='dashed', color='black')\n",
        "plt.show()"
      ],
      "execution_count": 3,
      "outputs": [
        {
          "output_type": "stream",
          "text": [
            "loss: 5.111112056304763e-07    d: [-0.47157024]    y: [-0.47258129]\n",
            "loss: 1.415364045272599e-06    d: [-0.39789889]    y: [-0.39958137]\n",
            "loss: 2.5599029914889695e-06    d: [-0.78740743]    y: [-0.78967013]\n",
            "loss: 7.216263290756831e-09    d: [0.25526991]    y: [0.25514977]\n",
            "loss: 1.692063852303836e-06    d: [0.6529121]    y: [0.6547517]\n",
            "loss: 7.238070929592407e-07    d: [0.8773359]    y: [0.87613273]\n",
            "loss: 6.94623672640184e-07    d: [0.92114593]    y: [0.91996727]\n",
            "loss: 1.2284734878716838e-06    d: [-0.58880346]    y: [-0.59037093]\n",
            "loss: 1.249746554038834e-08    d: [-0.6529121]    y: [-0.65307019]\n",
            "loss: 1.747012227351786e-06    d: [-0.32751865]    y: [-0.32938788]\n",
            "loss: 2.0214401036949676e-07    d: [0.39789889]    y: [0.39853473]\n",
            "loss: 1.7248378220181487e-06    d: [-0.15674537]    y: [-0.1586027]\n",
            "loss: 1.3462666565759927e-06    d: [0.97076771]    y: [0.97240861]\n",
            "loss: 6.884294927340995e-07    d: [-0.50453668]    y: [-0.50571008]\n",
            "loss: 8.964485145755927e-09    d: [-0.99460929]    y: [-0.99447539]\n",
            "loss: 1.6819644091702273e-06    d: [0.95745284]    y: [0.95928694]\n",
            "loss: 6.636708769141727e-07    d: [-0.92833248]    y: [-0.92718037]\n",
            "loss: 1.6550737476982935e-06    d: [-0.35120641]    y: [-0.35302579]\n",
            "loss: 1.4812813327812138e-06    d: [-0.3863158]    y: [-0.38803701]\n",
            "loss: 1.5504762308514472e-06    d: [0.63363256]    y: [0.63539351]\n",
            "loss: 1.0859688992781955e-06    d: [0.44921588]    y: [0.45068963]\n",
            "loss: 7.024336524124573e-07    d: [-0.86811636]    y: [-0.86693109]\n",
            "loss: 4.298419312276618e-07    d: [0.45483173]    y: [0.45575893]\n",
            "loss: 1.580095398714422e-07    d: [0.59893397]    y: [0.59949613]\n",
            "loss: 1.3059873825117033e-07    d: [0.18156486]    y: [0.18105379]\n",
            "loss: 1.6215636803486034e-06    d: [0.64332332]    y: [0.64512419]\n",
            "loss: 2.6565935995862896e-08    d: [0.99247351]    y: [0.99224301]\n",
            "loss: 7.40741454966324e-07    d: [-0.89762559]    y: [-0.89640842]\n",
            "loss: 3.71082532029052e-07    d: [-0.11308158]    y: [-0.11222009]\n",
            "loss: 2.5763917247784403e-06    d: [0.79127273]    y: [0.7935427]\n",
            "loss: 1.656899449754944e-06    d: [-0.64813056]    y: [-0.64995094]\n",
            "loss: 4.6376502860086785e-07    d: [0.95561698]    y: [0.9546539]\n",
            "loss: 3.6393779690608376e-07    d: [0.99690497]    y: [0.99775813]\n",
            "loss: 2.2160406235604497e-07    d: [-0.4036669]    y: [-0.40433264]\n",
            "loss: 5.740145938542626e-08    d: [-0.99987614]    y: [-1.00021496]\n",
            "loss: 2.7629030137744627e-07    d: [-0.57343317]    y: [-0.57417653]\n",
            "loss: 1.8554954289682268e-07    d: [0.75537465]    y: [0.75476547]\n",
            "loss: 9.152860658437441e-07    d: [0.00629574]    y: [0.00494275]\n",
            "loss: 1.879728455072532e-06    d: [-0.23084276]    y: [-0.23278169]\n",
            "loss: 1.0524302613340216e-06    d: [0.56307233]    y: [0.56452314]\n",
            "loss: 4.631459840874837e-08    d: [0.99975723]    y: [1.00006158]\n",
            "loss: 3.447189422141042e-07    d: [0.11933469]    y: [0.11850437]\n",
            "loss: 1.8830994807690592e-06    d: [0.23696388]    y: [0.23890455]\n",
            "loss: 5.121473071497668e-09    d: [0.99524241]    y: [0.9951412]\n",
            "loss: 1.0512304477732452e-06    d: [-0.98039956]    y: [-0.98184954]\n",
            "loss: 1.8138828727328714e-06    d: [0.18775236]    y: [0.18965703]\n",
            "loss: 5.27036239975623e-07    d: [0.82463104]    y: [0.82360436]\n",
            "loss: 5.169924703574502e-07    d: [-0.94988243]    y: [-0.94886558]\n",
            "loss: 6.747741177796269e-07    d: [0.92597363]    y: [0.92481193]\n",
            "loss: 1.8809353374297469e-06    d: [0.26135201]    y: [0.26329156]\n",
            "loss: 2.032585279160064e-07    d: [-0.75948523]    y: [-0.75884764]\n",
            "loss: 9.925440907234163e-08    d: [-0.98611478]    y: [-0.98566924]\n",
            "loss: 3.541760049898911e-07    d: [-0.43793098]    y: [-0.43877262]\n",
            "loss: 3.1377796213247624e-08    d: [0.23084276]    y: [0.23059225]\n",
            "loss: 2.6937112046167392e-06    d: [0.83516734]    y: [0.83748842]\n",
            "loss: 2.588227073819968e-07    d: [0.77163571]    y: [0.77091623]\n",
            "loss: 1.2613599482854995e-06    d: [0.97371292]    y: [0.97530122]\n",
            "loss: 1.4907373517710847e-07    d: [-0.99975723]    y: [-1.00030326]\n",
            "loss: 4.23204458765402e-07    d: [0.99583607]    y: [0.99675608]\n",
            "loss: 3.7874478008073335e-07    d: [0.44358222]    y: [0.44445256]\n",
            "loss: 1.8816335271666648e-06    d: [-0.94789551]    y: [-0.94983543]\n",
            "loss: 1.2190012629927552e-06    d: [-0.97512765]    y: [-0.97668906]\n",
            "loss: 1.996710038100712e-06    d: [-0.694759]    y: [-0.69675736]\n",
            "loss: 1.8849134192594399e-06    d: [-0.2430756]    y: [-0.24501721]\n",
            "loss: 1.8748123442559193e-06    d: [0.22471249]    y: [0.22664888]\n",
            "loss: 4.262035754349954e-07    d: [-0.10056216]    y: [-0.0996389]\n",
            "loss: 4.325800120920962e-09    d: [0.68564779]    y: [0.68555477]\n",
            "loss: 1.830617672361298e-06    d: [0.29761864]    y: [0.29953208]\n",
            "loss: 2.3320442983070924e-09    d: [-0.99583607]    y: [-0.99576778]\n",
            "loss: 6.585761031379055e-07    d: [-0.99085292]    y: [-0.99200059]\n",
            "loss: 7.65158159077088e-08    d: [0.35120641]    y: [0.3515976]\n",
            "loss: 7.290859282132683e-07    d: [-0.88033969]    y: [-0.87913214]\n",
            "loss: 1.6685814037354303e-09    d: [-0.68105132]    y: [-0.68099355]\n",
            "loss: 2.6918387131482883e-06    d: [0.85534252]    y: [0.85766279]\n",
            "loss: 7.327100876991043e-07    d: [-0.98907524]    y: [-0.99028578]\n",
            "loss: 5.490892948273999e-08    d: [-0.71705202]    y: [-0.71672063]\n",
            "loss: 6.837326417292688e-07    d: [-0.86179776]    y: [-0.86062837]\n",
            "loss: 1.6566551435474058e-06    d: [0.13806466]    y: [0.13988491]\n",
            "loss: 5.68155092776573e-07    d: [-0.48263615]    y: [-0.48370213]\n",
            "loss: 2.25890280317448e-07    d: [-0.15052435]    y: [-0.1498522]\n",
            "loss: 1.745212320460044e-06    d: [0.16296018]    y: [0.16482845]\n",
            "loss: 2.091550344328133e-06    d: [0.70821885]    y: [0.71026411]\n",
            "loss: 1.7631822152187186e-06    d: [0.95374324]    y: [0.9556211]\n",
            "loss: 2.4114224765213426e-07    d: [0.97512765]    y: [0.97443319]\n",
            "loss: 2.0674908901435936e-06    d: [0.93739898]    y: [0.93943244]\n",
            "loss: 8.485394806789291e-07    d: [0.98611478]    y: [0.9874175]\n",
            "loss: 1.729863259084033e-07    d: [0.98039956]    y: [0.97981136]\n",
            "loss: 3.9139136578767244e-07    d: [-0.55262221]    y: [-0.55350696]\n",
            "loss: 5.144245939050145e-07    d: [0.08175375]    y: [0.08073943]\n",
            "loss: 1.5434925122990647e-06    d: [-0.37467145]    y: [-0.37642843]\n",
            "loss: 8.646011169627478e-08    d: [0.98714074]    y: [0.9867249]\n",
            "loss: 1.7821870821634272e-06    d: [0.17537017]    y: [0.17725812]\n",
            "loss: 1.7227716039718588e-06    d: [-0.95561698]    y: [-0.9574732]\n",
            "loss: 1.7032584357931203e-06    d: [0.15052435]    y: [0.15237003]\n",
            "loss: 2.2961399277292755e-06    d: [-0.92114593]    y: [-0.92328889]\n",
            "loss: 1.486157217832667e-07    d: [-0.38050117]    y: [-0.38104635]\n",
            "loss: 8.149646046183755e-07    d: [-0.48814053]    y: [-0.48941721]\n",
            "loss: 9.154701847837838e-07    d: [0.54208448]    y: [0.5434376]\n",
            "loss: 8.191872200280431e-09    d: [-0.69021707]    y: [-0.69008907]\n",
            "loss: 1.194681904839505e-07    d: [0.60896952]    y: [0.60945833]\n"
          ],
          "name": "stdout"
        },
        {
          "output_type": "display_data",
          "data": {
            "image/png": "[encoded data removed]",
            "text/plain": [
              "<Figure size 432x288 with 1 Axes>"
            ]
          },
          "metadata": {
            "tags": [],
            "needs_background": "light"
          }
        }
      ]
    }
  ]
}